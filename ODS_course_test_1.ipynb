{
  "nbformat": 4,
  "nbformat_minor": 0,
  "metadata": {
    "colab": {
      "name": "ODS course test 1.ipynb",
      "provenance": [],
      "mount_file_id": "1imGRdOpvxO_Sag-0S_eS_8HaokbyJsBV",
      "authorship_tag": "ABX9TyNb5Jy+pvyzOknTRS6gVLUE",
      "include_colab_link": true
    },
    "kernelspec": {
      "name": "python3",
      "display_name": "Python 3"
    },
    "language_info": {
      "name": "python"
    }
  },
  "cells": [
    {
      "cell_type": "markdown",
      "metadata": {
        "id": "view-in-github",
        "colab_type": "text"
      },
      "source": [
        "<a href=\"https://colab.research.google.com/github/KateZel/ODS-course-tests/blob/main/ODS_course_test_1.ipynb\" target=\"_parent\"><img src=\"https://colab.research.google.com/assets/colab-badge.svg\" alt=\"Open In Colab\"/></a>"
      ]
    },
    {
      "cell_type": "markdown",
      "source": [
        "***Первое задание.*** \n",
        "\n",
        "Написать код, который вычисляет сумму всех чисел, удовлетворяющих следующие условия:\n",
        "\n",
        "положительные целые числа от 1 до 1_000_000_002 (один миллиард два) включительно\n",
        "которые нацело (без остатка) делятся на 3 (пример: 3, 6, 9, ...)\n",
        "и которые не заканчиваются на 4 и 7 (пример заканчивающихся на 4 и 7: 24, 27, 54, 57 ...)\n",
        "Результат суммы ввести в поле ниже.\n",
        "В поле нужно ввести только число, являющееся ответом, без пробелов и других символов."
      ],
      "metadata": {
        "id": "h2KkbAA1tgpN"
      }
    },
    {
      "cell_type": "code",
      "source": [
        "x = 3\n",
        "summa = 0\n",
        "while x < 1_000_000_003:\n",
        "  if x%10 not in (4, 7):\n",
        "    summa += x\n",
        "  x += 3\n",
        "print(summa)"
      ],
      "metadata": {
        "id": "btmVxn42cFzC",
        "colab": {
          "base_uri": "https://localhost:8080/"
        },
        "outputId": "d3aa51c8-8309-4fcb-877f-3eb72c91a1fd"
      },
      "execution_count": null,
      "outputs": [
        {
          "output_type": "stream",
          "name": "stdout",
          "text": [
            "133333334466666672\n"
          ]
        }
      ]
    },
    {
      "cell_type": "markdown",
      "source": [
        "**Второе задание.**\n",
        "\n",
        "На вход поступает текстовый файл из 3-х тысяч строк\n",
        "\n",
        "Формат файла:\n",
        "    \"арифметическая операция\"    \"целое число #1\"    \"целое число #2\"\n",
        "Разделитель - 4 пробела\n",
        "\n",
        "\n",
        "Нужно подготовить текстовый файл из 1 строки.\n",
        "Строка содержит набор из 3-х тысяч чисел, разделенных запятой. \n",
        "После последнего числа запятая не ставится.\n",
        "каждое число - результат операции: \n",
        "    \"результирующее целое число\" = \"целое число #1\" применить \"арифметическая операция\" \"целое число #2\""
      ],
      "metadata": {
        "id": "14bF9OsFt4rw"
      }
    },
    {
      "cell_type": "code",
      "source": [
        "file = open('/content/drive/MyDrive/Colab Notebooks/ODS/input_file.txt', 'r')\n",
        "line = file.read().splitlines()\n",
        "file.close()\n",
        "new_line = []\n",
        "for i in line:\n",
        "  num = i.split(sep='    ')\n",
        "  if num[0] == '+':\n",
        "    next = str(int(num[1]) + int(num[2]))\n",
        "  elif num[0] == '-':\n",
        "    next = str(int(num[1]) - int(num[2]))\n",
        "  elif num[0] == '*':\n",
        "    next = str(int(num[1]) * int(num[2]))\n",
        "  elif num[0] == '%':\n",
        "    next = str(int(num[1]) % int(num[2]))\n",
        "  elif num[0] == '//':\n",
        "    next = str(int(num[1]) // int(num[2]))\n",
        "  elif num[0] == '**':\n",
        "    next = str(int(num[1]) ** int(num[2]))\n",
        "  else:\n",
        "    print('errow', i, num)\n",
        "  new_line.append(next)\n",
        "\n",
        "result = ','.join(new_line)\n",
        "with open('/content/drive/MyDrive/Colab Notebooks/ODS/result.txt', 'w') as out_file:\n",
        "  out_file.write(result)\n",
        "\n"
      ],
      "metadata": {
        "id": "u8x2OsWSu8lJ"
      },
      "execution_count": 34,
      "outputs": []
    },
    {
      "cell_type": "markdown",
      "source": [
        "**Третье задание.**\n",
        "\n",
        "На вход поступает два текстовый файл из 3-х тысяч строк каждый.\n",
        "\n",
        "Первый файл содержит строки текста.   \n",
        " \n",
        "Второй файл содержит строки из двух целых неотрицательных чисел.\n",
        "Первое число в строке всегда меньше или равно второму.\n",
        "Числа всегда меньше длины соответствующей строки первого файла.\n",
        "Соответствующей - это значит 1-ая строка из 1-го файла соответствует 1-ой строке из 2-го файла, а 123-я строка из 1-го файла соответствует 123-ей строке из 2-го файла.\n",
        " \n",
        "Подготовить выходной файл, который состоит из подстрок 1-го входного файла.\n",
        "Подстроки разделены пробелами.\n",
        "Какие брать подстроки - написано во втором файле.\n",
        "В конце файла пробела нет."
      ],
      "metadata": {
        "id": "kXDuuu_ra2c_"
      }
    },
    {
      "cell_type": "code",
      "source": [
        "file_1 = open('/content/drive/MyDrive/Colab Notebooks/ODS/import_file_2_2.txt', 'r')\n",
        "slices = file_1.read().splitlines()\n",
        "file_1.close()\n",
        "file_2 = open('/content/drive/MyDrive/Colab Notebooks/ODS/import_file_2_1.txt', 'r')\n",
        "splits = file_2.read().splitlines()\n",
        "file_2.close()\n",
        "final_line = []\n",
        "for i in range(len(splits)):\n",
        "  start = int(slices[i].split(sep=' ')[0])\n",
        "  finish = int(slices[i].split(sep=' ')[1]) + 1\n",
        "  new_el = splits[i][start:finish]\n",
        "  final_line.append(new_el)\n",
        "code = ' '.join(final_line)\n",
        "with open('/content/drive/MyDrive/Colab Notebooks/ODS/code.txt', 'w') as out_file:\n",
        "  out_file.write(code)\n"
      ],
      "metadata": {
        "id": "6_ekPOMpc2g0"
      },
      "execution_count": 35,
      "outputs": []
    },
    {
      "cell_type": "markdown",
      "source": [
        "**Четвертое задание.**\n",
        "\n",
        "На вход поступает строка.\n",
        "В ней хранится набор химических символов (He, O, H, Mg, Fe, ...). Без пробелов.\n",
        "Нужно расшифровать химические символы в название химических элементов.\n",
        "Для удобства, прилагается json файл, который ставит в соответствие химическому символу его химическое название.\n",
        "Как прочитать этот файл в словарь python (dict):\n",
        "\n",
        "periodic_table = json.load(open('periodic_table.json'))"
      ],
      "metadata": {
        "id": "6GG6dgKGopuW"
      }
    },
    {
      "cell_type": "code",
      "source": [
        "import json\n",
        "import regex\n",
        "periodic_table = json.load(open('/content/drive/MyDrive/Colab Notebooks/ODS/periodic_table.json'))\n",
        "file_3 = open('/content/drive/MyDrive/Colab Notebooks/ODS/import_file_3.txt', 'r')\n",
        "sequence = regex.split(r'(?=[A-Z])', file_3.read())\n",
        "file_3.close()\n",
        "composition_list = [periodic_table[a] for a in sequence[1:]]\n",
        "composition = ''.join(composition_list)\n",
        "with open('/content/drive/MyDrive/Colab Notebooks/ODS/composition.txt', 'w') as out_file:\n",
        "  out_file.write(composition)"
      ],
      "metadata": {
        "id": "jca0-JdieJxw"
      },
      "execution_count": 33,
      "outputs": []
    },
    {
      "cell_type": "code",
      "source": [
        "periodic_table"
      ],
      "metadata": {
        "colab": {
          "base_uri": "https://localhost:8080/"
        },
        "id": "l03wyOM6wLOT",
        "outputId": "fb2808da-2da7-4386-89a1-b548a190b966"
      },
      "execution_count": 36,
      "outputs": [
        {
          "output_type": "execute_result",
          "data": {
            "text/plain": [
              "{'Ac': 'Актиний',\n",
              " 'Ag': 'Серебро',\n",
              " 'Al': 'Алюминий',\n",
              " 'Am': 'Америций',\n",
              " 'Ar': 'Аргон',\n",
              " 'As': 'Мышьяк',\n",
              " 'At': 'Астат',\n",
              " 'Au': 'Золото',\n",
              " 'B': 'Бор',\n",
              " 'Ba': 'Барий',\n",
              " 'Be': 'Бериллий',\n",
              " 'Bh': 'Борий',\n",
              " 'Bi': 'Висмут',\n",
              " 'Bk': 'Берклий',\n",
              " 'Br': 'Бром',\n",
              " 'C': 'Углерод',\n",
              " 'Ca': 'Кальций',\n",
              " 'Cd': 'Кадмий',\n",
              " 'Ce': 'Церий',\n",
              " 'Cf': 'Калифорний',\n",
              " 'Cl': 'Хлор',\n",
              " 'Cm': 'Кюрий',\n",
              " 'Cn': 'Коперниций',\n",
              " 'Co': 'Кобальт',\n",
              " 'Cr': 'Хром',\n",
              " 'Cs': 'Цезий',\n",
              " 'Cu': 'Медь',\n",
              " 'Db': 'Дубний',\n",
              " 'Ds': 'Дармштадтий',\n",
              " 'Dy': 'Диспрозий',\n",
              " 'Er': 'Эрбий',\n",
              " 'Es': 'Эйнштейний',\n",
              " 'Eu': 'Европий',\n",
              " 'F': 'Фтор',\n",
              " 'Fe': 'Железо',\n",
              " 'Fl': 'Флеровий',\n",
              " 'Fm': 'Фермий',\n",
              " 'Fr': 'Франций',\n",
              " 'Ga': 'Галий',\n",
              " 'Gd': 'Гадолиний',\n",
              " 'Ge': 'Германий',\n",
              " 'H': 'Водород',\n",
              " 'He': 'Гелий',\n",
              " 'Hf': 'Гафний',\n",
              " 'Hg': 'Ртуть',\n",
              " 'Ho': 'Гольмий',\n",
              " 'Hs': 'Хассий',\n",
              " 'I': 'Йод',\n",
              " 'In': 'Индий',\n",
              " 'Ir': 'Иридий',\n",
              " 'K': 'Калий',\n",
              " 'Kr': 'Криптон',\n",
              " 'La': 'Лантан',\n",
              " 'Li': 'Литий',\n",
              " 'Lr': 'Лоуренсий',\n",
              " 'Lu': 'Лютеций',\n",
              " 'Lv': 'Ливерморий',\n",
              " 'Mc': 'Московий',\n",
              " 'Md': 'Менделевий',\n",
              " 'Mg': 'Магний',\n",
              " 'Mn': 'Марганец',\n",
              " 'Mo': 'Молибден',\n",
              " 'Mt': 'Мейтнерий',\n",
              " 'N': 'Азот',\n",
              " 'Na': 'Натрий',\n",
              " 'Nb': 'Ниобий',\n",
              " 'Nd': 'Неодим',\n",
              " 'Ne': 'Неон',\n",
              " 'Nh': 'Нихоний',\n",
              " 'Ni': 'Никель',\n",
              " 'No': 'Нобелий',\n",
              " 'Np': 'Нептуний',\n",
              " 'O': 'Кислород',\n",
              " 'Ods': 'Пасхалочка',\n",
              " 'Og': 'Оганесон',\n",
              " 'Os': 'Осмий',\n",
              " 'P': 'Фосфор',\n",
              " 'Pa': 'Протактиний',\n",
              " 'Pb': 'Свинец',\n",
              " 'Pd': 'Палладий',\n",
              " 'Pm': 'Прометий',\n",
              " 'Po': 'Полоний',\n",
              " 'Pr': 'Празеодим',\n",
              " 'Pt': 'Платина',\n",
              " 'Pu': 'Плутоний',\n",
              " 'Ra': 'Радий',\n",
              " 'Rb': 'Рубидий',\n",
              " 'Re': 'Рений',\n",
              " 'Rf': 'Разерфордий',\n",
              " 'Rg': 'Ренгений',\n",
              " 'Rh': 'Родий',\n",
              " 'Rn': 'Радон',\n",
              " 'Ru': 'Рутений',\n",
              " 'S': 'Сера',\n",
              " 'Sb': 'Сурьма',\n",
              " 'Sc': 'Скандий',\n",
              " 'Se': 'Селен',\n",
              " 'Sg': 'Сиборгий',\n",
              " 'Si': 'Кремний',\n",
              " 'Sm': 'Самарий',\n",
              " 'Sn': 'Олово',\n",
              " 'Sr': 'Стронций',\n",
              " 'Ta': 'Тантал',\n",
              " 'Tb': 'Тербий',\n",
              " 'Tc': 'Технеций',\n",
              " 'Te': 'Теллур',\n",
              " 'Th': 'Торий',\n",
              " 'Ti': 'Титан',\n",
              " 'Tl': 'Таллий',\n",
              " 'Tm': 'Тулий',\n",
              " 'Ts': 'Теннессин',\n",
              " 'U': 'Уран',\n",
              " 'Uue': 'Унуненний',\n",
              " 'V': 'Ванадий',\n",
              " 'W': 'Вольфрам',\n",
              " 'Xe': 'Ксенон',\n",
              " 'Y': 'Иттрий',\n",
              " 'Yb': 'Иттербий',\n",
              " 'Zn': 'Цинк',\n",
              " 'Zr': 'Цирконий'}"
            ]
          },
          "metadata": {},
          "execution_count": 36
        }
      ]
    },
    {
      "cell_type": "code",
      "source": [
        ""
      ],
      "metadata": {
        "id": "iYxHRh1ttPEj"
      },
      "execution_count": null,
      "outputs": []
    }
  ]
}